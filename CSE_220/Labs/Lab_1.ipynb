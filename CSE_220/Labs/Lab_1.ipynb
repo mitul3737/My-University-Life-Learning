{
 "cells": [
  {
   "cell_type": "code",
   "execution_count": 22,
   "metadata": {},
   "outputs": [
    {
     "name": "stdout",
     "output_type": "stream",
     "text": [
      "[40, 50, 60, 0, 0, 0]\n"
     ]
    }
   ],
   "source": [
    "#1) Shift Left k Cells\n",
    "\n",
    "array_0=[10,20,30,40,50,60]\n",
    "def shiftLeft(source,num):\n",
    "    size=0\n",
    "    #size\n",
    "    for m in range(0,len(source)):\n",
    "        if source[m]>0:\n",
    "            size+=1  \n",
    "            \n",
    "    for k in range(0,num):  \n",
    "        for i in range(0,size-1):\n",
    "            source[i]=source[i+1]\n",
    "        source[size-1]=0\n",
    "    \n",
    "        \n",
    "    return source\n",
    "print(shiftLeft(array_0,3))"
   ]
  },
  {
   "cell_type": "code",
   "execution_count": 25,
   "metadata": {},
   "outputs": [
    {
     "name": "stdout",
     "output_type": "stream",
     "text": [
      "[40, 50, 60, 10, 20, 30]\n"
     ]
    }
   ],
   "source": [
    "#2) Rotate Left k cells\n",
    "array_0=[10,20,30,40,50,60]\n",
    "def rotateLeft(source,num):\n",
    "    size=0\n",
    "    #size\n",
    "    for m in range(0,len(source)):\n",
    "        if source[m]>0:\n",
    "            size+=1             \n",
    "    for k in range(0,num):\n",
    "        x=source[0]\n",
    "        for i in range(0,size-1):\n",
    "            source[i]=source[i+1]\n",
    "        source[size-1]=x   \n",
    "    return source\n",
    "print(rotateLeft(array_0,3))"
   ]
  },
  {
   "cell_type": "code",
   "execution_count": 28,
   "metadata": {},
   "outputs": [
    {
     "name": "stdout",
     "output_type": "stream",
     "text": [
      "[0, 0, 0, 10, 20, 30]\n"
     ]
    }
   ],
   "source": [
    "#3) Shift Right k Cells \n",
    "array_0=[10,20,30,40,50,60]\n",
    "def shiftRight(source,num):\n",
    "    size=0\n",
    "    #size\n",
    "    for m in range(0,len(source)):\n",
    "        if source[m]>0:\n",
    "            size+=1           \n",
    "    for k in range(0,num):\n",
    "        for i in range(size-1,0,-1):\n",
    "            source[i]=source[i-1]\n",
    "        source[0]=0  \n",
    "    return print(source)\n",
    "shiftRight(array_0,3)"
   ]
  },
  {
   "cell_type": "code",
   "execution_count": 31,
   "metadata": {},
   "outputs": [
    {
     "name": "stdout",
     "output_type": "stream",
     "text": [
      "[40, 50, 60, 10, 20, 30]\n"
     ]
    }
   ],
   "source": [
    "#4) Rotate Right k cells\n",
    "array_0=[10,20,30,40,50,60]\n",
    "def rotateRight(source,num):\n",
    "    size=0\n",
    "    #size\n",
    "    for m in range(0,len(source)):\n",
    "        if source[m]>0:\n",
    "            size+=1             \n",
    "    for k in range(0,num):\n",
    "        x=source[size-1]\n",
    "        for i in range(size-1,0,-1):\n",
    "            source[i]=source[i-1]\n",
    "        source[0]=x      \n",
    "    return source\n",
    "print(rotateRight(array_0,3))"
   ]
  },
  {
   "cell_type": "code",
   "execution_count": 41,
   "metadata": {},
   "outputs": [
    {
     "name": "stdout",
     "output_type": "stream",
     "text": [
      "[10, 20, 40, 50, 0, 0, 0]\n"
     ]
    }
   ],
   "source": [
    "# 5) Remove an element from an array\n",
    "array_0=[10,20,30,40,50,0,0]\n",
    "def remove(source,size,index):\n",
    "    if index>=size:\n",
    "        print(\"Index out of range for Linear array\")\n",
    "    else:\n",
    "        for i in range(index,size+1):\n",
    "            source[i]=source[i+1]\n",
    "        source[size+1]=0\n",
    "    \n",
    "    return source\n",
    "print(remove(array_0,5,2))"
   ]
  },
  {
   "cell_type": "code",
   "execution_count": 39,
   "metadata": {},
   "outputs": [
    {
     "name": "stdout",
     "output_type": "stream",
     "text": [
      "[10, 30, 50, 0, 0, 0, 0, 0, 0]\n"
     ]
    }
   ],
   "source": [
    "#6)Remove all occurrences of a particular element from an array\n",
    "\n",
    "array_0=[10,2,30,2,50,2,2,0,0]\n",
    "\n",
    "def removeAll(source,size,num):\n",
    "    if num>=size:\n",
    "        print(\"Index out of range for Linear array\")\n",
    "    else:\n",
    "        for k in range(0,size):\n",
    "            if source[k] == num:\n",
    "                new=k\n",
    "                for i in range(new,size):\n",
    "                    if source[i]==num:\n",
    "                        remove(source,size,i)\n",
    "            \n",
    "        \n",
    "    return source\n",
    "\n",
    "print(removeAll(array_0,7,2))"
   ]
  },
  {
   "cell_type": "code",
   "execution_count": 44,
   "metadata": {},
   "outputs": [
    {
     "name": "stdout",
     "output_type": "stream",
     "text": [
      "False\n"
     ]
    }
   ],
   "source": [
    "# 7) Splitting an Array\n",
    "def other_sum(ind,source):\n",
    "    sum_0=0\n",
    "    for i in range(ind+1,len(source)):\n",
    "        sum_0+=source[i]\n",
    "    return sum_0\n",
    "\n",
    "def equal_balance(source):\n",
    "    flag = False\n",
    "    start=0\n",
    "    #print(f\"{start} before\")\n",
    "    for i in range(0,len(source)):\n",
    "        start+=source[i]\n",
    "        #print(f\"{start} after\")\n",
    "        if start==other_sum(i,source):\n",
    "            flag=True\n",
    "            break\n",
    "    if flag:\n",
    "        return True\n",
    "    else:\n",
    "        return False\n",
    "\n",
    "\n",
    "print(equal_balance([10, 3,7,6,2 ,1, 2, 10]))"
   ]
  },
  {
   "cell_type": "code",
   "execution_count": 1,
   "metadata": {},
   "outputs": [
    {
     "name": "stdout",
     "output_type": "stream",
     "text": [
      "Give your desired number: 4\n",
      "[0, 0, 0, 1, 0, 0, 2, 1, 0, 3, 2, 1, 4, 3, 2, 1]\n"
     ]
    }
   ],
   "source": [
    "# 8) Array series\n",
    "array_0 = []\n",
    "#print(type(array_0))\n",
    "num=int(input(\"Give your desired number: \"))\n",
    "\n",
    "def reverse_array(arr):\n",
    "    array_x=[]\n",
    "    for i in range(len(arr)-1,-1,-1):\n",
    "        #print(i)\n",
    "        array_x+=[arr[i]]\n",
    "    return array_x\n",
    "\n",
    "\n",
    "for j in range(1, num + 1):\n",
    "    array_1 = []\n",
    "    count_0 = 0\n",
    "    for i in range(1,num+1):\n",
    "        if i==j:\n",
    "            array_1+=[i]\n",
    "        elif i<j:\n",
    "            array_1+=[i]\n",
    "            i+=1\n",
    "        else:\n",
    "            array_1+=[0]\n",
    "\n",
    "    #print(f\"array_1{array_1}\")\n",
    "    #array_0.append(reverse_array(array_1))\n",
    "    for m in reverse_array(array_1):\n",
    "        array_0+=[m]\n",
    "\n",
    "print(array_0)\n"
   ]
  },
  {
   "cell_type": "code",
   "execution_count": 61,
   "metadata": {},
   "outputs": [
    {
     "name": "stdout",
     "output_type": "stream",
     "text": [
      "4\n"
     ]
    }
   ],
   "source": [
    "# 9) Max Bunch Count\n",
    "\n",
    "array_0=[1,1,2, 2, 1, 1,1,1] #Kindly change the array value from here\n",
    "\n",
    "ini=array_0[0]\n",
    "count_0=1 #setting default count value\n",
    "max_0=0\n",
    "for k in range(1,len(array_0)):\n",
    "    j=array_0[k]\n",
    "    if ini==j: # checks if initial value and value from list are same\n",
    "        count_0+=1 #if same, adds 1 value\n",
    "        if count_0>max_0: # checks if max_0 is smaller than count_0\n",
    "            max_0=count_0\n",
    "    if ini!=j: #if initial value and j is not same\n",
    "        count_0 = 1 #as not same, so count should start from default\n",
    "        if count_0>max_0:\n",
    "            max_0=count_0\n",
    "\n",
    "    ini=j#changing the initial value to next one to iterate\n",
    "\n",
    "print(max_0)\n",
    "\n"
   ]
  },
  {
   "cell_type": "code",
   "execution_count": 60,
   "metadata": {},
   "outputs": [
    {
     "name": "stdout",
     "output_type": "stream",
     "text": [
      "True\n"
     ]
    }
   ],
   "source": [
    "# 10) Repetition\n",
    "def count_x(list,x):\n",
    "    count_r=0\n",
    "    for i in list:\n",
    "        if i==x:\n",
    "            count_r+=1\n",
    "    return count_r\n",
    "\n",
    "\n",
    "def repitition_array(var):\n",
    "    array_1 = []\n",
    "    array_2 = []\n",
    "    for i in var:\n",
    "        if i not in array_1:\n",
    "            array_1+=[i]\n",
    "    max_0 = 0\n",
    "    count_0 = 0\n",
    "    for j in array_1:\n",
    "        count_0 = count_x(var,j)\n",
    "        array_2+=[count_0]\n",
    "\n",
    "    for x in array_2:\n",
    "        if count_x(array_2,x)>1:\n",
    "            return True\n",
    "        else:\n",
    "            return False\n",
    "print(repitition_array([4,5,6,6,4,3,6,4])) # Kindly change the array value here"
   ]
  },
  {
   "cell_type": "code",
   "execution_count": null,
   "metadata": {},
   "outputs": [],
   "source": []
  }
 ],
 "metadata": {
  "kernelspec": {
   "display_name": "Python 3 (ipykernel)",
   "language": "python",
   "name": "python3"
  },
  "language_info": {
   "codemirror_mode": {
    "name": "ipython",
    "version": 3
   },
   "file_extension": ".py",
   "mimetype": "text/x-python",
   "name": "python",
   "nbconvert_exporter": "python",
   "pygments_lexer": "ipython3",
   "version": "3.9.13"
  }
 },
 "nbformat": 4,
 "nbformat_minor": 2
}
