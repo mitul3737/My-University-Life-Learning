{
  "nbformat": 4,
  "nbformat_minor": 0,
  "metadata": {
    "colab": {
      "name": "Doubly_LinkedList_Lab.ipynb",
      "provenance": []
    },
    "kernelspec": {
      "name": "python3",
      "display_name": "Python 3"
    },
    "language_info": {
      "name": "python"
    }
  },
  "cells": [
    {
      "cell_type": "code",
      "execution_count": null,
      "metadata": {
        "id": "9bqdhEPZxrtR"
      },
      "outputs": [],
      "source": [
        "class Node:\n",
        "  def __init__(self, e, n, p):\n",
        "    self.element = e\n",
        "    self.next = n\n",
        "    self.prev = p"
      ]
    },
    {
      "cell_type": "code",
      "source": [
        "class DoublyList:\n",
        "  \n",
        "  def __init__(self, a):\n",
        "  #  Design the constructor based on data type of a. If 'a' is built in python list then\n",
        "  #  Creates a linked list using the values from the given array.\n",
        "    self.head = None\n",
        "    # To Do\n",
        "    pass # Remove this line\n",
        "  \n",
        "  # Counts the number of Nodes in the list\n",
        "  def countNode(self):\n",
        "    # To Do\n",
        "    pass # Remove this line\n",
        "  \n",
        "  # prints the elements in the list\n",
        "  def forwardprint(self):\n",
        "    # To Do\n",
        "    pass # Remove this line\n",
        "\n",
        "  # prints the elements in the list backward\n",
        "  def backwardprint(self):\n",
        "    # To Do\n",
        "    pass # Remove this line\n",
        "\n",
        "  # returns the reference of the at the given index. For invalid index return None.\n",
        "  def nodeAt(self, idx):\n",
        "    # To Do\n",
        "    pass # Remove this line\n",
        "  \n",
        "  # returns the index of the containing the given element. if the element does not exist in the List, return -1.\n",
        "  def indexOf(self, elem):\n",
        "    # To Do\n",
        "    pass # Remove this line\n",
        "\n",
        "  # inserts containing the given element at the given index Check validity of index. \n",
        "  def insert(self, elem, idx):\n",
        "    # To Do\n",
        "    pass # Remove this line\n",
        "  # removes at the given index. returns element of the removed node. Check validity of index. return None if index is invalid.\n",
        "  def remove(self, idx):\n",
        "    # To Do\n",
        "    pass # Remove this line"
      ],
      "metadata": {
        "id": "OvxiO4AIymgC"
      },
      "execution_count": null,
      "outputs": []
    },
    {
      "cell_type": "code",
      "source": [
        "print(\"///  Test 01  ///\")\n",
        "a1 = [10, 20, 30, 40]\n",
        "h1 = DoublyList(a1) # Creates a linked list using the values from the array\n",
        "\n",
        "h1.forwardprint() # This should print: 10,20,30,40. \n",
        "h1.backwardprint() # This should print: 40,30,20,10. \n",
        "print(h1.countNode()) # This should print: 4\n",
        "\n",
        "print(\"///  Test 02  ///\")\n",
        "# returns the reference of the at the given index. For invalid idx return None.\n",
        "myNode = h1.nodeAt(2)\n",
        "print(myNode.element) # This should print: 30. In case of invalid index This will print \"index error\"\n",
        "\n",
        "print(\"///  Test 03  ///\")\n",
        "# returns the index of the containing the given element. if the element does not exist in the List, return -1.\n",
        "index = h1.indexOf(40)\n",
        "print(index) # This should print: 3. In case of element that \n",
        "#doesn't exists in the list this will print -1.\n",
        "\n",
        "print(\"///  Test 04  ///\")\n",
        "\n",
        "a2 = [10, 20, 30, 40]\n",
        "h2 = DoublyList(a2) # uses the  constructor\n",
        "h2.forwardprint() # This should print: 10,20,30,40.  \n",
        "\n",
        "# inserts containing the given element at the given index. Check validity of index.\n",
        "h2.insert(85,0)\n",
        "h2.forwardprint() # This should print: 85,10,20,30,40. \n",
        "h2.backwardprint() # This should print: 40,30,20,10,85.\n",
        "\n",
        "print()\n",
        "h2.insert(95,3)\n",
        "h2.forwardprint() # This should print: 85,10,20,95,30,40.  \n",
        "h2.backwardprint() # This should print: 40,30,95,20,10,80.  \n",
        "\n",
        "print()\n",
        "h2.insert(75,6)\n",
        "h2.forwardprint() # This should print: 85,10,20,95,30,40,75. \n",
        "h2.backwardprint() # This should print: 75,40,30,95,20,10,85. \n",
        "\n",
        "\n",
        "print(\"///  Test 05  ///\")\n",
        "a3 = [10, 20, 30, 40, 50, 60, 70]\n",
        "h3 = DoublyList(a3) # uses the constructor\n",
        "h3.forwardprint() # This should print: 10,20,30,40,50,60,70.  \n",
        "\n",
        "# removes at the given index. returns element of the removed node. Check validity of index. return None if index is invalid.\n",
        "print(\"Removed element: \"+ h3.remove(0)) # This should print: Removed element: 10\n",
        "h3.forwardprint() # This should print: 20,30,40,50,60,70.  \n",
        "h3.backwardprint() # This should print: 70,60,50,40,30,20.  \n",
        "print(\"Removed element: \"+ h3.remove(3)) # This should print: Removed element: 50\n",
        "h3.forwardprint() # This should print: 20,30,40,60,70.  \n",
        "h3.backwardprint() # This should print: 70,60,40,30,20.  \n",
        "print(\"Removed element: \"+ h3.remove(4)) # This should print: Removed element: 70\n",
        "h3.forwardprint() # This should print: 20,30,40,60. \n",
        "h3.backwardprint() # This should print: 60,40,30,20."
      ],
      "metadata": {
        "id": "6X3SheP734rt"
      },
      "execution_count": null,
      "outputs": []
    }
  ]
}