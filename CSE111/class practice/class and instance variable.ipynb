{
 "cells": [
  {
   "cell_type": "code",
   "execution_count": null,
   "metadata": {
    "collapsed": true,
    "pycharm": {
     "name": "#%%\n"
    }
   },
   "outputs": [],
   "source": [
    "class Student:\n",
    "    uniName='BRACU'\n",
    "    def __init__(self,name,id,dept):\n",
    "        self.name=name\n",
    "        self.id=id\n",
    "        self.dept=dept\n",
    "        print(self.name,\"object created\")\n",
    "\n",
    "\n",
    "st1=Student('Alice',15126727,'CSE')\n",
    "st2=Student('Jahan',17383983,'BBA')\n",
    "print(Student.uniName)\n",
    "print(st1.uniName)\n",
    "\n"
   ]
  }
 ],
 "metadata": {
  "kernelspec": {
   "display_name": "Python 3",
   "language": "python",
   "name": "python3"
  },
  "language_info": {
   "codemirror_mode": {
    "name": "ipython",
    "version": 2
   },
   "file_extension": ".py",
   "mimetype": "text/x-python",
   "name": "python",
   "nbconvert_exporter": "python",
   "pygments_lexer": "ipython2",
   "version": "2.7.6"
  }
 },
 "nbformat": 4,
 "nbformat_minor": 0
}