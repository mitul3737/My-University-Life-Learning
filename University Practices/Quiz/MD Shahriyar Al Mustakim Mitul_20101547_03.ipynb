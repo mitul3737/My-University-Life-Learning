{
 "cells": [
  {
   "cell_type": "code",
   "execution_count": 1,
   "id": "6fac0c15",
   "metadata": {},
   "outputs": [
    {
     "name": "stdout",
     "output_type": "stream",
     "text": [
      "{0: 3, 1: 4, 2: 9, 3: 13, 4: 19, 5: 26, 6: 34}\n",
      "{0: 5, 1: 6, 2: 9, 3: 16, 4: 20, 5: 28}\n"
     ]
    }
   ],
   "source": [
    "def function_name(word):\n",
    "    word = word.split(\",\")\n",
    "    dict_0 = {}\n",
    "    sum_0 = 0\n",
    "    count_0 = 0\n",
    "    for i in word:\n",
    "        i = int(i)\n",
    "        sum_0 += i\n",
    "        dict_0[count_0] = sum_0\n",
    "        count_0 += 1\n",
    "    return dict_0\n",
    "\n",
    "print(function_name(\"3,1,5,4,6,7,8\"))\n",
    "print(function_name(\"5,1,3,7,4,8\"))"
   ]
  },
  {
   "cell_type": "code",
   "execution_count": null,
   "id": "6d4ed6b5",
   "metadata": {},
   "outputs": [],
   "source": []
  }
 ],
 "metadata": {
  "kernelspec": {
   "display_name": "Python 3",
   "language": "python",
   "name": "python3"
  },
  "language_info": {
   "codemirror_mode": {
    "name": "ipython",
    "version": 3
   },
   "file_extension": ".py",
   "mimetype": "text/x-python",
   "name": "python",
   "nbconvert_exporter": "python",
   "pygments_lexer": "ipython3",
   "version": "3.8.8"
  }
 },
 "nbformat": 4,
 "nbformat_minor": 5
}
