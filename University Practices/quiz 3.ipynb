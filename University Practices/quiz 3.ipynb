{
 "cells": [
  {
   "cell_type": "code",
   "execution_count": 1,
   "id": "8113ae47",
   "metadata": {},
   "outputs": [
    {
     "name": "stdout",
     "output_type": "stream",
     "text": [
      "15, 5, 3, 12, 14, 24, 49, 42\n",
      "{'Divisible by 3': [15, 3, 12, 24, 42], 'Divisible by 5': [15, 5], 'Divisible by 2': [12, 14, 24, 42], 'None': [49]}\n"
     ]
    }
   ],
   "source": [
    "lst = input(\"\").split(\", \")\n",
    "final = {}\n",
    "mlst = []\n",
    "for i in lst:\n",
    "    i = int(i)\n",
    "    if i % 2 ==0:\n",
    "        if 'Divisible by 2' not in final.keys():\n",
    "            final['Divisible by 2'] = [i]\n",
    "        else:\n",
    "            mlst = final['Divisible by 2']\n",
    "            mlst.append(i)\n",
    "            final['Divisible by 2'] = mlst\n",
    "    if i % 3 == 0:\n",
    "        if 'Divisible by 3' not in final.keys():\n",
    "            final['Divisible by 3'] = [i]\n",
    "        else:\n",
    "            mlst = final['Divisible by 3']\n",
    "            mlst.append(i)\n",
    "            final['Divisible by 3'] = mlst\n",
    "    if i % 5 == 0:\n",
    "        if 'Divisible by 5' not in final.keys():\n",
    "            final['Divisible by 5'] = [i]\n",
    "        else:\n",
    "            mlst = final['Divisible by 5']\n",
    "            mlst.append(i)\n",
    "            final['Divisible by 5'] = mlst\n",
    "    elif i % 2 != 0 and i % 3 != 0 and i % 5 !=0:\n",
    "        if \"None\" not in final.keys():\n",
    "            final[\"None\"] = [i]\n",
    "        else:\n",
    "            mlst = final[\"None\"]\n",
    "            mlst.append(i)\n",
    "            final[\"None\"] = mlst\n",
    "print(final)"
   ]
  },
  {
   "cell_type": "code",
   "execution_count": null,
   "id": "284058ee",
   "metadata": {},
   "outputs": [],
   "source": []
  }
 ],
 "metadata": {
  "kernelspec": {
   "display_name": "Python 3",
   "language": "python",
   "name": "python3"
  },
  "language_info": {
   "codemirror_mode": {
    "name": "ipython",
    "version": 3
   },
   "file_extension": ".py",
   "mimetype": "text/x-python",
   "name": "python",
   "nbconvert_exporter": "python",
   "pygments_lexer": "ipython3",
   "version": "3.8.8"
  }
 },
 "nbformat": 4,
 "nbformat_minor": 5
}
