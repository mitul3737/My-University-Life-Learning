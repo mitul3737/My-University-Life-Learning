{
 "cells": [
  {
   "cell_type": "code",
   "execution_count": 1,
   "metadata": {
    "colab": {
     "base_uri": "https://localhost:8080/",
     "height": 321
    },
    "id": "eLeLnzBo2U7B",
    "outputId": "c9a28ca8-8fb8-4d65-afe2-49de935c6609"
   },
   "outputs": [
    {
     "ename": "FileNotFoundError",
     "evalue": "ignored",
     "output_type": "error",
     "traceback": [
      "\u001b[0;31m---------------------------------------------------------------------------\u001b[0m",
      "\u001b[0;31mFileNotFoundError\u001b[0m                         Traceback (most recent call last)",
      "\u001b[0;32m<ipython-input-1-3cce97e35caa>\u001b[0m in \u001b[0;36m<module>\u001b[0;34m\u001b[0m\n\u001b[1;32m     80\u001b[0m \u001b[0;31m# ======================Program starts here.========================\u001b[0m\u001b[0;34m\u001b[0m\u001b[0;34m\u001b[0m\u001b[0;34m\u001b[0m\u001b[0m\n\u001b[1;32m     81\u001b[0m \u001b[0;31m# read file using the readFile() method readFile()\u001b[0m\u001b[0;34m\u001b[0m\u001b[0;34m\u001b[0m\u001b[0;34m\u001b[0m\u001b[0m\n\u001b[0;32m---> 82\u001b[0;31m \u001b[0mreadFile\u001b[0m\u001b[0;34m(\u001b[0m\u001b[0;34m)\u001b[0m\u001b[0;34m\u001b[0m\u001b[0;34m\u001b[0m\u001b[0m\n\u001b[0m",
      "\u001b[0;32m<ipython-input-1-3cce97e35caa>\u001b[0m in \u001b[0;36mreadFile\u001b[0;34m()\u001b[0m\n\u001b[1;32m      3\u001b[0m \u001b[0;31m# reading file from as input\u001b[0m\u001b[0;34m\u001b[0m\u001b[0;34m\u001b[0m\u001b[0;34m\u001b[0m\u001b[0m\n\u001b[1;32m      4\u001b[0m \u001b[0;31m# change the file name according to yours\u001b[0m\u001b[0;34m\u001b[0m\u001b[0;34m\u001b[0m\u001b[0;34m\u001b[0m\u001b[0m\n\u001b[0;32m----> 5\u001b[0;31m  \u001b[0mf\u001b[0m \u001b[0;34m=\u001b[0m \u001b[0mopen\u001b[0m\u001b[0;34m(\u001b[0m\u001b[0;34m\"graph.txt\"\u001b[0m\u001b[0;34m,\u001b[0m \u001b[0;34m\"r\"\u001b[0m\u001b[0;34m)\u001b[0m\u001b[0;34m\u001b[0m\u001b[0;34m\u001b[0m\u001b[0m\n\u001b[0m\u001b[1;32m      6\u001b[0m \u001b[0;34m\u001b[0m\u001b[0m\n\u001b[1;32m      7\u001b[0m \u001b[0;31m# first line of input contains the number of vertices in the graph\u001b[0m\u001b[0;34m\u001b[0m\u001b[0;34m\u001b[0m\u001b[0;34m\u001b[0m\u001b[0m\n",
      "\u001b[0;31mFileNotFoundError\u001b[0m: [Errno 2] No such file or directory: 'graph.txt'"
     ]
    }
   ],
   "source": [
    "# CSE221 Lab 03 Graphs\n",
    "def readFile():\n",
    "# reading file from as input\n",
    "# change the file name according to yours\n",
    " f = open(\"graph.txt\", \"r\")\n",
    "\n",
    "# first line of input contains the number of vertices in the graph\n",
    " n = f.readline()\n",
    " # strip() gets rid of the new line\n",
    " # try printing n without strip()\n",
    " print(n.strip())\n",
    " n = n.strip()\n",
    " print(type(n))\n",
    " # n is of type string. we need to convert it to int\n",
    " n=int(n)\n",
    " print(type(n))\n",
    "\n",
    " # the second line of the file contains the number of connections\n",
    " c = f.readline()\n",
    " c = c.strip()\n",
    " c = int(c)\n",
    " print(c)\n",
    "\n",
    " buildGraphUsingDictionary(5,f)\n",
    "\n",
    " buildGraphUsingListofLists(5,f)\n",
    "# we want to build an adjacency list like the following\n",
    "# A -> B,C\n",
    "# One vertex can be connected to multiple vertices\n",
    "# which means multiple values are associated with one vertex\n",
    "# one data structure that can be used is a dictionary of lists\n",
    "# {A:[B,C]}\n",
    "def buildGraphUsingDictionary(c,f):\n",
    "  graph = {}\n",
    "  counter = 0\n",
    "  while (counter<=c):\n",
    "   line = f.readline() # reading each line\n",
    "   a,b = line.split(\",\") # splitting the vertices\n",
    "   b = b.strip() # getting rid of \\n from the end\n",
    "   a=int(a)\n",
    "   b=int(b)\n",
    "   \n",
    "   if(a in graph):\n",
    "     graph[a].append(b)\n",
    "   else:\n",
    "      graph[a]=[b]\n",
    "  #  print(a)\n",
    "  #  print(b)\n",
    "   counter+=1\n",
    "   print(graph)\n",
    "   \n",
    "  printGraph(graph, None)\n",
    "\n",
    "\n",
    "# TO DO\n",
    "# This method must be completed by you\n",
    "# You should code in such a way that the output should be\n",
    " # 1 -> 2,4\n",
    " # 2 -> 4\n",
    " # 3 -> 1,4\n",
    " # 4 -> 2\n",
    "# notice this method takes both the graphs as parameters\n",
    "# this means you have print the same output in the same style for both the datastructures\n",
    "# if graph is none then print from listGraph\n",
    "# if listGraph is none then print from graph\n",
    "def printGraph(graph,listGraph):\n",
    " # Your code\n",
    " return # delete this line\n",
    "# TO DO\n",
    "# I have shown you how to build a graph using a dictionary of list\n",
    "# now your job is to build a graph using list of lists [[E,B],[C,D]]\n",
    "# it means A -> E,B and B -> C,D\n",
    "def buildGraphUsingListofLists(c,f):\n",
    " listGraph = [] # do not change the name of the variable\n",
    "\n",
    " # your code\n",
    "\n",
    " printGraph(None,listGraph)\n",
    " return # delete this line\n",
    "# ======================Program starts here.========================\n",
    "# read file using the readFile() method readFile()\n",
    "readFile()"
   ]
  }
 ],
 "metadata": {
  "colab": {
   "provenance": []
  },
  "kernelspec": {
   "display_name": "Python 3 (ipykernel)",
   "language": "python",
   "name": "python3"
  },
  "language_info": {
   "codemirror_mode": {
    "name": "ipython",
    "version": 3
   },
   "file_extension": ".py",
   "mimetype": "text/x-python",
   "name": "python",
   "nbconvert_exporter": "python",
   "pygments_lexer": "ipython3",
   "version": "3.9.13"
  }
 },
 "nbformat": 4,
 "nbformat_minor": 1
}
